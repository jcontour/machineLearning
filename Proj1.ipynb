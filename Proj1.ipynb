{
 "cells": [
  {
   "cell_type": "code",
   "execution_count": null,
   "metadata": {
    "collapsed": true
   },
   "outputs": [],
   "source": [
    "import numpy as np\n",
    "import pandas as pd\n",
    "import matplotlib.pyplot as plt\n",
    "%matplotlib inline"
   ]
  },
  {
   "cell_type": "code",
   "execution_count": null,
   "metadata": {
    "collapsed": false
   },
   "outputs": [],
   "source": [
    "data = pd.read_csv('Amazon.csv')\n",
    "data = data[0:1000]\n",
    "data.shape"
   ]
  },
  {
   "cell_type": "code",
   "execution_count": null,
   "metadata": {
    "collapsed": false
   },
   "outputs": [],
   "source": [
    "data.head(5)"
   ]
  },
  {
   "cell_type": "code",
   "execution_count": null,
   "metadata": {
    "collapsed": true
   },
   "outputs": [],
   "source": [
    "#define Y - which column in data has label of result\n",
    "y = data.iloc[:, 12].values"
   ]
  },
  {
   "cell_type": "code",
   "execution_count": null,
   "metadata": {
    "collapsed": false
   },
   "outputs": [],
   "source": [
    "#bag of words on text\n",
    "from sklearn.feature_extraction.text import CountVectorizer\n",
    "count = CountVectorizer()\n",
    "\n",
    "type(data.Text)\n",
    "textArray = data.Text.as_matrix()\n",
    "type(textArray)\n",
    "features = count.fit_transform(textArray)\n",
    "xText = features.toarray()\n",
    "xText.shape"
   ]
  },
  {
   "cell_type": "code",
   "execution_count": null,
   "metadata": {
    "collapsed": false
   },
   "outputs": [],
   "source": [
    "#bag of words on summary\n",
    "#creating newSummary with \"no summary given\" where summary does not exist.\n",
    "data['newSummary'] = np.where(pd.isnull(data['Summary']) == True, 'no summary given', data['Summary'])\n",
    "\n",
    "type(data.newSummary)\n",
    "summaryArray = data.newSummary.as_matrix()\n",
    "type(summaryArray)\n",
    "features = count.fit_transform(summaryArray)\n",
    "xSummary = features.toarray()\n",
    "xSummary.shape"
   ]
  },
  {
   "cell_type": "code",
   "execution_count": null,
   "metadata": {
    "collapsed": false
   },
   "outputs": [],
   "source": [
    "# NOT WORKING\n",
    "\n",
    "# check frequency of user name occurance\n",
    "\n",
    "# data['freq'] = data.groupby('ProfileName')['ProfileName'].transform('count')\n",
    "\n",
    "# type(data.freq)\n",
    "# freqArray = data.freq.as_matrix()\n",
    "# type(freqArray)\n",
    "# features = count.fit_transform(freqArray)\n",
    "# xFreq = features.toarray()\n",
    "# xFreq.shape"
   ]
  },
  {
   "cell_type": "code",
   "execution_count": null,
   "metadata": {
    "collapsed": false
   },
   "outputs": [],
   "source": [
    "#  does summary have exclamation point\n",
    "data['hasEP'] = data['Text'].str.contains('!')\n",
    "xHasEP = data.iloc[:, 14].values.reshape(data.shape[0], 1)\n",
    "\n",
    "# length of text\n",
    "data['textLen'] = data['Text'].str.len()\n",
    "xTextLen = data.iloc[:, 15].values.reshape(data.shape[0], 1)\n",
    "\n",
    "# length of summary\n",
    "data['summaryLen'] = data['Summary'].str.len()\n",
    "xSummaryLen = data.iloc[:, 16].values.reshape(data.shape[0], 1)\n",
    "\n",
    "# score\n",
    "xScore = data.iloc[:, 7].values.reshape(data.shape[0], 1)\n"
   ]
  },
  {
   "cell_type": "code",
   "execution_count": null,
   "metadata": {
    "collapsed": false
   },
   "outputs": [],
   "source": [
    "x = np.concatenate((xText, xSummary, xHasEP, xTextLen, xSummaryLen, xScore), axis=1)\n",
    "print(x)\n",
    "print(x.shape)"
   ]
  },
  {
   "cell_type": "code",
   "execution_count": null,
   "metadata": {
    "collapsed": true
   },
   "outputs": [],
   "source": [
    "# create training and test sets\n",
    "x_train, x_test, y_train, y_test = train_test_split(\n",
    "         x, y, test_size=0.3, random_state=0)"
   ]
  },
  {
   "cell_type": "code",
   "execution_count": null,
   "metadata": {
    "collapsed": true
   },
   "outputs": [],
   "source": [
    "# logistic regression\n",
    "\n",
    "from sklearn.linear_model import LogisticRegression\n",
    "lr = LogisticRegression(C=1.0, random_state=0)\n",
    "y_pred = lr.fit(X_train, y_train).predict(X_train)\n",
    "y_pred_test = lr.predict(X_test)"
   ]
  },
  {
   "cell_type": "code",
   "execution_count": null,
   "metadata": {
    "collapsed": true
   },
   "outputs": [],
   "source": [
    "# error reporting\n",
    "\n",
    "print('Error rate on training set: ')\n",
    "print((y_train != y_pred).sum() / X_train.shape[0])\n",
    "print('Accuracy rate on training set: ')\n",
    "print(1 - (y_train != y_pred).sum() / X_train.shape[0])\n",
    "print('True positive rate on training tet:')\n",
    "print(((y_train==True) & (y_pred==True)).sum() / y_train.sum())\n",
    "print('**************')\n",
    "print('Error rate on test set: ')\n",
    "print((y_test != y_pred_test).sum() / X_test.shape[0])\n",
    "print('Accuracy rate on test set: ')\n",
    "print(1 - (y_test != y_pred_test).sum() / X_test.shape[0])\n",
    "print('True positive rate on test set')\n",
    "print(((y_test==True) & (y_pred_test==True)).sum() / y_test.sum())\n",
    "print('**************')\n",
    "print('Y predictions: ')\n",
    "print(y_pred_test)"
   ]
  }
 ],
 "metadata": {
  "kernelspec": {
   "display_name": "Python 3",
   "language": "python",
   "name": "python3"
  },
  "language_info": {
   "codemirror_mode": {
    "name": "ipython",
    "version": 3
   },
   "file_extension": ".py",
   "mimetype": "text/x-python",
   "name": "python",
   "nbconvert_exporter": "python",
   "pygments_lexer": "ipython3",
   "version": "3.5.1"
  }
 },
 "nbformat": 4,
 "nbformat_minor": 0
}
