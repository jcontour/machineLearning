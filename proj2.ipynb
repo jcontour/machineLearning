{
 "cells": [
  {
   "cell_type": "code",
   "execution_count": 1,
   "metadata": {
    "collapsed": true
   },
   "outputs": [],
   "source": [
    "import numpy as np\n",
    "import pandas as pd\n",
    "import matplotlib.pyplot as plt\n",
    "%matplotlib inline"
   ]
  },
  {
   "cell_type": "code",
   "execution_count": 3,
   "metadata": {
    "collapsed": false
   },
   "outputs": [
    {
     "data": {
      "text/html": [
       "<div>\n",
       "<table border=\"1\" class=\"dataframe\">\n",
       "  <thead>\n",
       "    <tr style=\"text-align: right;\">\n",
       "      <th></th>\n",
       "      <th>Function</th>\n",
       "      <th>sup1</th>\n",
       "      <th>sup2</th>\n",
       "      <th>sup3</th>\n",
       "      <th>sup4</th>\n",
       "      <th>sup5</th>\n",
       "      <th>salary</th>\n",
       "      <th>gender</th>\n",
       "      <th>disabled</th>\n",
       "      <th>race</th>\n",
       "      <th>...</th>\n",
       "      <th>inst4</th>\n",
       "      <th>inst5</th>\n",
       "      <th>instBudget</th>\n",
       "      <th>City</th>\n",
       "      <th>State</th>\n",
       "      <th>Zip</th>\n",
       "      <th>country</th>\n",
       "      <th>Category</th>\n",
       "      <th>instSize</th>\n",
       "      <th>instType</th>\n",
       "    </tr>\n",
       "  </thead>\n",
       "  <tbody>\n",
       "    <tr>\n",
       "      <th>0</th>\n",
       "      <td>position1</td>\n",
       "      <td>16</td>\n",
       "      <td>1</td>\n",
       "      <td>0</td>\n",
       "      <td>350</td>\n",
       "      <td>135</td>\n",
       "      <td>125000</td>\n",
       "      <td>Woman</td>\n",
       "      <td>False</td>\n",
       "      <td>Caucasian</td>\n",
       "      <td>...</td>\n",
       "      <td>350</td>\n",
       "      <td>120</td>\n",
       "      <td>3100000</td>\n",
       "      <td>Edmonton</td>\n",
       "      <td>AB</td>\n",
       "      <td>T6G 2H9</td>\n",
       "      <td>CANADA</td>\n",
       "      <td>one</td>\n",
       "      <td>35630</td>\n",
       "      <td>Public Institution</td>\n",
       "    </tr>\n",
       "    <tr>\n",
       "      <th>1</th>\n",
       "      <td>position3</td>\n",
       "      <td>7</td>\n",
       "      <td>0</td>\n",
       "      <td>0</td>\n",
       "      <td>320</td>\n",
       "      <td>120</td>\n",
       "      <td>92000</td>\n",
       "      <td>Woman</td>\n",
       "      <td>False</td>\n",
       "      <td>Other</td>\n",
       "      <td>...</td>\n",
       "      <td>350</td>\n",
       "      <td>120</td>\n",
       "      <td>3100000</td>\n",
       "      <td>Edmonton</td>\n",
       "      <td>AB</td>\n",
       "      <td>T6G 2H9</td>\n",
       "      <td>CANADA</td>\n",
       "      <td>one</td>\n",
       "      <td>35630</td>\n",
       "      <td>Public Institution</td>\n",
       "    </tr>\n",
       "    <tr>\n",
       "      <th>2</th>\n",
       "      <td>position3</td>\n",
       "      <td>4</td>\n",
       "      <td>0</td>\n",
       "      <td>0</td>\n",
       "      <td>25</td>\n",
       "      <td>15</td>\n",
       "      <td>88000</td>\n",
       "      <td>Woman</td>\n",
       "      <td>False</td>\n",
       "      <td>Caucasian</td>\n",
       "      <td>...</td>\n",
       "      <td>350</td>\n",
       "      <td>120</td>\n",
       "      <td>3100000</td>\n",
       "      <td>Edmonton</td>\n",
       "      <td>AB</td>\n",
       "      <td>T6G 2H9</td>\n",
       "      <td>CANADA</td>\n",
       "      <td>one</td>\n",
       "      <td>35630</td>\n",
       "      <td>Public Institution</td>\n",
       "    </tr>\n",
       "    <tr>\n",
       "      <th>3</th>\n",
       "      <td>position5</td>\n",
       "      <td>0</td>\n",
       "      <td>0</td>\n",
       "      <td>0</td>\n",
       "      <td>5</td>\n",
       "      <td>0</td>\n",
       "      <td>75000</td>\n",
       "      <td>Woman</td>\n",
       "      <td>False</td>\n",
       "      <td>Caucasian</td>\n",
       "      <td>...</td>\n",
       "      <td>350</td>\n",
       "      <td>120</td>\n",
       "      <td>3100000</td>\n",
       "      <td>Edmonton</td>\n",
       "      <td>AB</td>\n",
       "      <td>T6G 2H9</td>\n",
       "      <td>CANADA</td>\n",
       "      <td>one</td>\n",
       "      <td>35630</td>\n",
       "      <td>Public Institution</td>\n",
       "    </tr>\n",
       "    <tr>\n",
       "      <th>4</th>\n",
       "      <td>position18</td>\n",
       "      <td>0</td>\n",
       "      <td>0</td>\n",
       "      <td>0</td>\n",
       "      <td>0</td>\n",
       "      <td>0</td>\n",
       "      <td>67000</td>\n",
       "      <td>Woman</td>\n",
       "      <td>False</td>\n",
       "      <td>Caucasian</td>\n",
       "      <td>...</td>\n",
       "      <td>350</td>\n",
       "      <td>120</td>\n",
       "      <td>3100000</td>\n",
       "      <td>Edmonton</td>\n",
       "      <td>AB</td>\n",
       "      <td>T6G 2H9</td>\n",
       "      <td>CANADA</td>\n",
       "      <td>one</td>\n",
       "      <td>35630</td>\n",
       "      <td>Public Institution</td>\n",
       "    </tr>\n",
       "  </tbody>\n",
       "</table>\n",
       "<p>5 rows × 29 columns</p>\n",
       "</div>"
      ],
      "text/plain": [
       "     Function  sup1  sup2  sup3  sup4  sup5  salary gender disabled  \\\n",
       "0   position1    16     1     0   350   135  125000  Woman    False   \n",
       "1   position3     7     0     0   320   120   92000  Woman    False   \n",
       "2   position3     4     0     0    25    15   88000  Woman    False   \n",
       "3   position5     0     0     0     5     0   75000  Woman    False   \n",
       "4  position18     0     0     0     0     0   67000  Woman    False   \n",
       "\n",
       "        race         ...          inst4  inst5  instBudget      City State  \\\n",
       "0  Caucasian         ...            350    120     3100000  Edmonton    AB   \n",
       "1      Other         ...            350    120     3100000  Edmonton    AB   \n",
       "2  Caucasian         ...            350    120     3100000  Edmonton    AB   \n",
       "3  Caucasian         ...            350    120     3100000  Edmonton    AB   \n",
       "4  Caucasian         ...            350    120     3100000  Edmonton    AB   \n",
       "\n",
       "       Zip  country  Category  instSize            instType  \n",
       "0  T6G 2H9   CANADA       one     35630  Public Institution  \n",
       "1  T6G 2H9   CANADA       one     35630  Public Institution  \n",
       "2  T6G 2H9   CANADA       one     35630  Public Institution  \n",
       "3  T6G 2H9   CANADA       one     35630  Public Institution  \n",
       "4  T6G 2H9   CANADA       one     35630  Public Institution  \n",
       "\n",
       "[5 rows x 29 columns]"
      ]
     },
     "execution_count": 3,
     "metadata": {},
     "output_type": "execute_result"
    }
   ],
   "source": [
    "data = pd.read_csv('salaries.csv')\n",
    "data.head()"
   ]
  },
  {
   "cell_type": "code",
   "execution_count": 4,
   "metadata": {
    "collapsed": false
   },
   "outputs": [
    {
     "data": {
      "text/plain": [
       "sup1                       1.425292\n",
       "sup2                       0.737549\n",
       "sup3                       0.600693\n",
       "sup4                      49.776527\n",
       "sup5                       4.090515\n",
       "salary                 49234.686712\n",
       "disabled                   0.012993\n",
       "yearsInPosition            5.690508\n",
       "yearsInProfession          9.331236\n",
       "age                       38.257220\n",
       "cred1                      0.067129\n",
       "cred2                      0.031615\n",
       "inst1                     16.575574\n",
       "inst2                      6.470333\n",
       "inst3                      3.541793\n",
       "inst4                    334.433088\n",
       "inst5                     41.038545\n",
       "instBudget           4751711.388732\n",
       "instSize               25066.208858\n",
       "dtype: float64"
      ]
     },
     "execution_count": 4,
     "metadata": {},
     "output_type": "execute_result"
    }
   ],
   "source": [
    "data.mean()"
   ]
  },
  {
   "cell_type": "code",
   "execution_count": 6,
   "metadata": {
    "collapsed": false
   },
   "outputs": [],
   "source": [
    "# for now, eliminate missing values (NaN)\n",
    "data['missingSalary'] = pd.isnull(data['salary'])\n",
    "data['missingAge'] = pd.isnull(data['age'])\n",
    "data2 = data[(data.missingSalary == False) & (data.missingAge == False)]"
   ]
  },
  {
   "cell_type": "code",
   "execution_count": 8,
   "metadata": {
    "collapsed": false
   },
   "outputs": [],
   "source": [
    "# X is age, y is salary\n",
    "X = data2.age.values\n",
    "y = data2.salary.values"
   ]
  },
  {
   "cell_type": "code",
   "execution_count": 9,
   "metadata": {
    "collapsed": true
   },
   "outputs": [],
   "source": [
    "# arbitrarily define a linear model\n",
    "m = 2000\n",
    "b = 10000"
   ]
  },
  {
   "cell_type": "code",
   "execution_count": 10,
   "metadata": {
    "collapsed": false
   },
   "outputs": [
    {
     "data": {
      "image/png": "[encoded data removed]",
      "text/plain": [
       "<matplotlib.figure.Figure at 0x10484d7f0>"
      ]
     },
     "metadata": {},
     "output_type": "display_data"
    }
   ],
   "source": [
    "# plot X and y (blue) and linear model (red)\n",
    "plt.scatter(X, y)\n",
    "plt.plot(X, m*X + b, color='red')\n",
    "plt.show()"
   ]
  },
  {
   "cell_type": "code",
   "execution_count": 11,
   "metadata": {
    "collapsed": false
   },
   "outputs": [
    {
     "name": "stdout",
     "output_type": "stream",
     "text": [
      "Intercept: \n",
      " 23984.4910155\n",
      "Coefficients: \n",
      " [ 649.57280005]\n",
      "Residual sum of squares: 265376883.08\n",
      "Variance score: 0.17\n",
      "Distribution of prediction error:\n"
     ]
    },
    {
     "data": {
      "image/png": "[encoded data removed]",
      "text/plain": [
       "<matplotlib.figure.Figure at 0x10c0e82e8>"
      ]
     },
     "metadata": {},
     "output_type": "display_data"
    }
   ],
   "source": [
    "from sklearn import datasets, linear_model\n",
    "\n",
    "# Create linear regression object\n",
    "regr = linear_model.LinearRegression()\n",
    "\n",
    "# Train the model using the training sets\n",
    "X = X.reshape(-1, 1)\n",
    "regr.fit(X, y)\n",
    "\n",
    "# The intercept\n",
    "print('Intercept: \\n', regr.intercept_)\n",
    "# The coefficients\n",
    "print('Coefficients: \\n', regr.coef_)\n",
    "# The mean square error\n",
    "print(\"Residual sum of squares: %.2f\"\n",
    "      % np.mean((regr.predict(X) - y) ** 2))\n",
    "# Explained variance score: 1 is perfect prediction\n",
    "print('Variance score: %.2f' % regr.score(X, y))\n",
    "#vector of prediction error\n",
    "print('Distribution of prediction error:')\n",
    "predError = regr.predict(X) - y\n",
    "plt.hist(predError)\n",
    "plt.show()"
   ]
  },
  {
   "cell_type": "code",
   "execution_count": 12,
   "metadata": {
    "collapsed": false,
    "scrolled": true
   },
   "outputs": [
    {
     "data": {
      "image/png": "[encoded data removed]",
      "text/plain": [
       "<matplotlib.figure.Figure at 0x1048de208>"
      ]
     },
     "metadata": {},
     "output_type": "display_data"
    }
   ],
   "source": [
    "# Plot outputs\n",
    "plt.scatter(X, y,  color='blue')\n",
    "plt.plot(X, regr.predict(X), color='red',\n",
    "         linewidth=3)\n",
    "plt.show()"
   ]
  },
  {
   "cell_type": "code",
   "execution_count": null,
   "metadata": {
    "collapsed": true
   },
   "outputs": [],
   "source": []
  }
 ],
 "metadata": {
  "kernelspec": {
   "display_name": "Python 3",
   "language": "python",
   "name": "python3"
  },
  "language_info": {
   "codemirror_mode": {
    "name": "ipython",
    "version": 3
   },
   "file_extension": ".py",
   "mimetype": "text/x-python",
   "name": "python",
   "nbconvert_exporter": "python",
   "pygments_lexer": "ipython3",
   "version": "3.5.1"
  }
 },
 "nbformat": 4,
 "nbformat_minor": 0
}
